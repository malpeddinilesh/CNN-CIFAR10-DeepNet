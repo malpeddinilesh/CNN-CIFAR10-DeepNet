{
 "cells": [
  {
   "cell_type": "code",
   "execution_count": 1,
   "metadata": {},
   "outputs": [
    {
     "name": "stderr",
     "output_type": "stream",
     "text": [
      "Using TensorFlow backend.\n"
     ]
    }
   ],
   "source": [
    "from keras.datasets import cifar10\n",
    "import keras\n",
    "import numpy as np\n",
    "import tensorflow as tf"
   ]
  },
  {
   "cell_type": "code",
   "execution_count": 2,
   "metadata": {},
   "outputs": [],
   "source": [
    "(x_train,y_train),(x_test,y_test) = cifar10.load_data()"
   ]
  },
  {
   "cell_type": "code",
   "execution_count": 3,
   "metadata": {},
   "outputs": [
    {
     "data": {
      "text/plain": [
       "(50000, 32, 32, 3)"
      ]
     },
     "execution_count": 3,
     "metadata": {},
     "output_type": "execute_result"
    }
   ],
   "source": [
    "x_train.shape"
   ]
  },
  {
   "cell_type": "code",
   "execution_count": 4,
   "metadata": {},
   "outputs": [
    {
     "data": {
      "text/plain": [
       "(50000, 1)"
      ]
     },
     "execution_count": 4,
     "metadata": {},
     "output_type": "execute_result"
    }
   ],
   "source": [
    "y_train.shape"
   ]
  },
  {
   "cell_type": "code",
   "execution_count": 5,
   "metadata": {},
   "outputs": [
    {
     "data": {
      "text/plain": [
       "(10000, 32, 32, 3)"
      ]
     },
     "execution_count": 5,
     "metadata": {},
     "output_type": "execute_result"
    }
   ],
   "source": [
    "x_test.shape"
   ]
  },
  {
   "cell_type": "code",
   "execution_count": 6,
   "metadata": {},
   "outputs": [
    {
     "data": {
      "text/plain": [
       "(10000, 1)"
      ]
     },
     "execution_count": 6,
     "metadata": {},
     "output_type": "execute_result"
    }
   ],
   "source": [
    "y_test.shape"
   ]
  },
  {
   "cell_type": "code",
   "execution_count": 7,
   "metadata": {},
   "outputs": [
    {
     "data": {
      "text/plain": [
       "32"
      ]
     },
     "execution_count": 7,
     "metadata": {},
     "output_type": "execute_result"
    }
   ],
   "source": [
    "x_train.shape[2]"
   ]
  },
  {
   "cell_type": "code",
   "execution_count": 8,
   "metadata": {},
   "outputs": [],
   "source": [
    "# Training Parameters\n",
    "learning_rate = 0.001\n",
    "num_steps = 5000\n",
    "batch_size = 100\n",
    "display_step = 100\n",
    "\n",
    "# Network parameters\n",
    "num_class = len(np.unique(y_train))\n",
    "img_height = x_train.shape[1]\n",
    "img_width = x_train.shape[2]\n",
    "img_channels = x_train.shape[3]\n",
    "dropout = 0.5"
   ]
  },
  {
   "cell_type": "code",
   "execution_count": 9,
   "metadata": {},
   "outputs": [],
   "source": [
    "import matplotlib.pyplot as plt\n",
    "%matplotlib inline"
   ]
  },
  {
   "cell_type": "code",
   "execution_count": 10,
   "metadata": {},
   "outputs": [
    {
     "data": {
      "text/plain": [
       "<matplotlib.image.AxesImage at 0xb33276f28>"
      ]
     },
     "execution_count": 10,
     "metadata": {},
     "output_type": "execute_result"
    },
    {
     "data": {
      "image/png": "[encoded data removed]",
      "text/plain": [
       "<Figure size 432x288 with 1 Axes>"
      ]
     },
     "metadata": {
      "needs_background": "light"
     },
     "output_type": "display_data"
    }
   ],
   "source": [
    "plt.imshow(x_train[1])"
   ]
  },
  {
   "cell_type": "markdown",
   "metadata": {},
   "source": [
    "## One hot encode"
   ]
  },
  {
   "cell_type": "code",
   "execution_count": 11,
   "metadata": {},
   "outputs": [],
   "source": [
    "y_train = keras.utils.to_categorical(y_train, 10)\n",
    "y_test = keras.utils.to_categorical(y_test,10)"
   ]
  },
  {
   "cell_type": "code",
   "execution_count": 12,
   "metadata": {},
   "outputs": [
    {
     "data": {
      "text/plain": [
       "array([0., 0., 0., 0., 0., 0., 0., 0., 0., 1.], dtype=float32)"
      ]
     },
     "execution_count": 12,
     "metadata": {},
     "output_type": "execute_result"
    }
   ],
   "source": [
    "y_train[1]"
   ]
  },
  {
   "cell_type": "code",
   "execution_count": 13,
   "metadata": {},
   "outputs": [],
   "source": [
    "# def one_hot_encode(x,num_class):\n",
    "#     \"\"\"\n",
    "#         argument\n",
    "#             - x: a list of labels\n",
    "#         return\n",
    "#             - one hot encoding matrix (number of labels, number of class)\n",
    "#     \"\"\"\n",
    "#     encoded = np.zeros((len(x), num_class))\n",
    "    \n",
    "#     for idx, val in enumerate(x):\n",
    "#         encoded[idx][val] = 1\n",
    "    \n",
    "#     return encoded"
   ]
  },
  {
   "cell_type": "code",
   "execution_count": 14,
   "metadata": {},
   "outputs": [],
   "source": [
    "def one_hot_encode(x,num_class):\n",
    "    encoded = np.zeros((len(x),num_class))\n",
    "    for idx,val in enumerate(x):\n",
    "        encoded[idx][val] = 1\n",
    "    return encoded"
   ]
  },
  {
   "cell_type": "code",
   "execution_count": 15,
   "metadata": {},
   "outputs": [],
   "source": [
    "def normalizeData(x):\n",
    "    xmin = np.min(x)\n",
    "    xmax = np.max(x)\n",
    "    xNorm = (x-xmin)/(xmax-xmin)\n",
    "    return xNorm"
   ]
  },
  {
   "cell_type": "code",
   "execution_count": 16,
   "metadata": {},
   "outputs": [],
   "source": [
    "# Normalize x_train and x_test data\n",
    "x_train = normalizeData(x_train)\n",
    "x_test = normalizeData(x_test)"
   ]
  },
  {
   "cell_type": "code",
   "execution_count": 17,
   "metadata": {},
   "outputs": [],
   "source": [
    "class HelpClass():\n",
    "    def __init__(self):\n",
    "        self.i = 0\n",
    "        # Intialize some empty variables for later on\n",
    "        #self.x_img = x_train\n",
    "        #self.y_img = y_train\n",
    "        \n",
    "    def next_batch(self,batch_size):\n",
    "        x = x_train[self.i:self.i+batch_size,:,:,:]\n",
    "        y = y_train[self.i:self.i+batch_size,:]\n",
    "        self.i=(self.i + batch_size) % len(x_train)\n",
    "        return x,y\n",
    "    \n",
    "    def random_batch(self,batch_size):\n",
    "        imglen = len(x_train)\n",
    "        idx = np.random.choice(imglen,size=batch_size,replace=False)\n",
    "        x_batch = x_train[idx,:,:,:]\n",
    "        y_batch = y_train[idx,:]\n",
    "        return x_batch,y_batch"
   ]
  },
  {
   "cell_type": "markdown",
   "metadata": {},
   "source": [
    "## Placeholder"
   ]
  },
  {
   "cell_type": "code",
   "execution_count": 18,
   "metadata": {},
   "outputs": [],
   "source": [
    "# Remove previous weights, bias, inputs, etc..\n",
    "tf.reset_default_graph()"
   ]
  },
  {
   "cell_type": "code",
   "execution_count": 19,
   "metadata": {},
   "outputs": [],
   "source": [
    "x = tf.placeholder(dtype=tf.float32,shape=[None,32,32,3])"
   ]
  },
  {
   "cell_type": "code",
   "execution_count": 20,
   "metadata": {},
   "outputs": [],
   "source": [
    "y_true = tf.placeholder(dtype=tf.float32,shape=[None,10])"
   ]
  },
  {
   "cell_type": "code",
   "execution_count": 21,
   "metadata": {},
   "outputs": [],
   "source": [
    "drop_p = tf.placeholder(dtype=tf.float32)"
   ]
  },
  {
   "cell_type": "code",
   "execution_count": 22,
   "metadata": {},
   "outputs": [],
   "source": [
    "# Init Weights\n",
    "def init_weights(shape):\n",
    "    # init_random_dist = tf.truncated_normal(shape=shape,stddev=0.1)\n",
    "    # init_random_dist = tf.get_variable('wc11',shape=shape,dtype=tf.float32,\n",
    "    #                                   initializer=tf.contrib.layers.xavier_initializer())\n",
    "    initializer = tf.contrib.layers.xavier_initializer()\n",
    "    w1 = tf.Variable(initializer(shape))\n",
    "    #return tf.Variable(init_random_dist)    \n",
    "    return w1"
   ]
  },
  {
   "cell_type": "code",
   "execution_count": 23,
   "metadata": {},
   "outputs": [],
   "source": [
    "# Init Bias\n",
    "def init_bias(shape):\n",
    "    initializer = tf.contrib.layers.xavier_initializer()\n",
    "    b1 = tf.Variable(initializer(shape))\n",
    "    #init_bias_val = tf.constant(value=0.1,shape=shape)\n",
    "    #return tf.Variable(init_bias_val)\n",
    "    return b1"
   ]
  },
  {
   "cell_type": "code",
   "execution_count": 24,
   "metadata": {},
   "outputs": [],
   "source": [
    "# Max Pooling\n",
    "def max_pooling_2by2(x,k=2):\n",
    "    # x = [batch,h,w,c]\n",
    "    return tf.nn.max_pool(value=x,ksize=[1,k,k,1],strides=[1,k,k,1],padding='SAME')"
   ]
  },
  {
   "cell_type": "code",
   "execution_count": 25,
   "metadata": {},
   "outputs": [],
   "source": [
    "def convlayer(x,shape,stride=1):\n",
    "    W = init_weights(shape)\n",
    "    b = init_bias([shape[3]])\n",
    "    x = tf.nn.conv2d(input=x,filter=W,strides=[1,stride,stride,1],padding='SAME')\n",
    "    #x = tf.nn.bias_add(x,b)\n",
    "    return tf.nn.relu(x+b)"
   ]
  },
  {
   "cell_type": "code",
   "execution_count": 26,
   "metadata": {},
   "outputs": [],
   "source": [
    "def full_layer(input_layer,size):\n",
    "    input_size = int(input_layer.get_shape()[1])\n",
    "    W = init_weights([input_size,size])\n",
    "    b = init_bias([size])\n",
    "    return tf.matmul(input_layer,W)+b"
   ]
  },
  {
   "cell_type": "code",
   "execution_count": 27,
   "metadata": {},
   "outputs": [],
   "source": [
    "def conv_net(x,drop_prob):\n",
    "    # Conv Layer 1\n",
    "    conv1 = convlayer(x=x,shape=[3,3,3,64],stride=1)\n",
    "    # Max Pooling 1\n",
    "    conv1 = max_pooling_2by2(x=conv1,k=2)\n",
    "    # Batch Normalization 1\n",
    "    conv1 = tf.layers.batch_normalization(conv1)\n",
    "    \n",
    "    # Conv Layer 2\n",
    "    conv2 = convlayer(x=conv1,shape=[3,3,64,128],stride=1)\n",
    "    # Max Pooling 2\n",
    "    conv2 = max_pooling_2by2(x=conv2,k=2)\n",
    "    # Batch NOrmalization 2\n",
    "    conv2 = tf.layers.batch_normalization(conv2)\n",
    "    \n",
    "    # Conv Layer 3\n",
    "    conv3 = convlayer(x=conv2,shape=[5,5,128,256],stride=1)\n",
    "    # Max Pooling 1\n",
    "    conv3 = max_pooling_2by2(x=conv3,k=2)\n",
    "    # Batch Normalization 1\n",
    "    conv3 = tf.layers.batch_normalization(conv3)\n",
    "    \n",
    "    # Conv Layer 4\n",
    "    conv4 = convlayer(x=conv3,shape=[5,5,256,512],stride=1)\n",
    "    # Max Pooling 2\n",
    "    conv4 = max_pooling_2by2(x=conv4,k=2)\n",
    "    # Batch NOrmalization 2\n",
    "    conv4 = tf.layers.batch_normalization(conv4)\n",
    "    \n",
    "    # Flatten Conv 4 Layer - reshape\n",
    "    # 32/2/2/2/2 = 2\n",
    "    conv4_flat = tf.reshape(conv4,shape=[-1,2*2*512])\n",
    "        \n",
    "    # Fully Connected Layer 1 - Dense Layer\n",
    "    fullnet1 = tf.nn.relu(full_layer(input_layer=conv4_flat,size=128))\n",
    "    # Dropout layer 1\n",
    "    fullnet1 = tf.nn.dropout(x=fullnet1,keep_prob=drop_p)\n",
    "    # Full Batch Normalization 1\n",
    "    fullnet1 = tf.layers.batch_normalization(fullnet1)\n",
    "    \n",
    "    # Fully Connected Layer 2 - Dense Layer\n",
    "    fullnet2 = tf.nn.relu(full_layer(input_layer=fullnet1,size=256))\n",
    "    # Dropout layer 1\n",
    "    fullnet2 = tf.nn.dropout(x=fullnet2,keep_prob=drop_p)\n",
    "    # Full Batch Normalization 2\n",
    "    fullnet2 = tf.layers.batch_normalization(fullnet2)\n",
    "    \n",
    "    # Fully Connected Layer 2 - Dense Layer\n",
    "    fullnet3 = tf.nn.relu(full_layer(input_layer=fullnet2,size=512))\n",
    "    # Dropout layer 1\n",
    "    fullnet3 = tf.nn.dropout(x=fullnet3,keep_prob=drop_p)\n",
    "    # Full Batch Normalization 2\n",
    "    fullnet3 = tf.layers.batch_normalization(fullnet3)\n",
    "    \n",
    "    # Fully Connected Layer 2 - Dense Layer\n",
    "    fullnet4 = tf.nn.relu(full_layer(input_layer=fullnet3,size=1024))\n",
    "    # Dropout layer 1\n",
    "    fullnet4 = tf.nn.dropout(x=fullnet4,keep_prob=drop_p)\n",
    "    # Full Batch Normalization 2\n",
    "    fullnet4 = tf.layers.batch_normalization(fullnet4)\n",
    "    \n",
    "    out = full_layer(fullnet4,num_class)\n",
    "    # out = full_layer(fullnet3,num_class)\n",
    "    # out = tf.contrib.layers.fully_connected(inputs=fullnet4, num_outputs=10, activation_fn=None)\n",
    "    return out"
   ]
  },
  {
   "cell_type": "code",
   "execution_count": 28,
   "metadata": {},
   "outputs": [],
   "source": [
    "logits = conv_net(x,drop_p)"
   ]
  },
  {
   "cell_type": "code",
   "execution_count": 29,
   "metadata": {},
   "outputs": [
    {
     "name": "stdout",
     "output_type": "stream",
     "text": [
      "WARNING:tensorflow:From <ipython-input-29-a406bdbc4399>:2: softmax_cross_entropy_with_logits (from tensorflow.python.ops.nn_ops) is deprecated and will be removed in a future version.\n",
      "Instructions for updating:\n",
      "\n",
      "Future major versions of TensorFlow will allow gradients to flow\n",
      "into the labels input on backprop by default.\n",
      "\n",
      "See @{tf.nn.softmax_cross_entropy_with_logits_v2}.\n",
      "\n"
     ]
    }
   ],
   "source": [
    "# Cost Loss Function\n",
    "loss_op = tf.reduce_mean(tf.nn.softmax_cross_entropy_with_logits(labels=y_true,logits=logits))"
   ]
  },
  {
   "cell_type": "code",
   "execution_count": 30,
   "metadata": {},
   "outputs": [],
   "source": [
    "# Optimizer function\n",
    "optimizer = tf.train.AdamOptimizer(learning_rate=learning_rate)"
   ]
  },
  {
   "cell_type": "code",
   "execution_count": 31,
   "metadata": {},
   "outputs": [],
   "source": [
    "train_op = optimizer.minimize(loss=loss_op)"
   ]
  },
  {
   "cell_type": "code",
   "execution_count": 32,
   "metadata": {},
   "outputs": [],
   "source": [
    "init = tf.global_variables_initializer()"
   ]
  },
  {
   "cell_type": "code",
   "execution_count": 33,
   "metadata": {},
   "outputs": [],
   "source": [
    "# Accuracy\n",
    "correct_pred = tf.equal(tf.argmax(logits,1),tf.argmax(y_true,1))\n",
    "accuracy = tf.reduce_mean(tf.cast(correct_pred,dtype=tf.float32))"
   ]
  },
  {
   "cell_type": "code",
   "execution_count": 34,
   "metadata": {},
   "outputs": [],
   "source": [
    "hc = HelpClass()"
   ]
  },
  {
   "cell_type": "code",
   "execution_count": 35,
   "metadata": {},
   "outputs": [
    {
     "name": "stdout",
     "output_type": "stream",
     "text": [
      "On Steps: 0\n",
      "Accuracy: \n",
      "0.1\n",
      "\n",
      "\n",
      "On Steps: 100\n",
      "Accuracy: \n",
      "0.1274\n",
      "\n",
      "\n",
      "On Steps: 200\n",
      "Accuracy: \n",
      "0.1857\n",
      "\n",
      "\n",
      "On Steps: 300\n",
      "Accuracy: \n",
      "0.2583\n",
      "\n",
      "\n",
      "On Steps: 400\n",
      "Accuracy: \n",
      "0.2977\n",
      "\n",
      "\n",
      "On Steps: 500\n",
      "Accuracy: \n",
      "0.3309\n",
      "\n",
      "\n",
      "On Steps: 600\n",
      "Accuracy: \n",
      "0.3415\n",
      "\n",
      "\n",
      "On Steps: 700\n",
      "Accuracy: \n",
      "0.4251\n",
      "\n",
      "\n",
      "On Steps: 800\n",
      "Accuracy: \n",
      "0.4184\n",
      "\n",
      "\n",
      "On Steps: 900\n",
      "Accuracy: \n",
      "0.4581\n",
      "\n",
      "\n",
      "On Steps: 1000\n",
      "Accuracy: \n",
      "0.5099\n",
      "\n",
      "\n",
      "On Steps: 1100\n",
      "Accuracy: \n",
      "0.5393\n",
      "\n",
      "\n",
      "On Steps: 1200\n",
      "Accuracy: \n",
      "0.4828\n",
      "\n",
      "\n",
      "On Steps: 1300\n",
      "Accuracy: \n",
      "0.5585\n",
      "\n",
      "\n",
      "On Steps: 1400\n",
      "Accuracy: \n",
      "0.5652\n",
      "\n",
      "\n",
      "On Steps: 1500\n",
      "Accuracy: \n",
      "0.5675\n",
      "\n",
      "\n",
      "On Steps: 1600\n",
      "Accuracy: \n",
      "0.5937\n",
      "\n",
      "\n",
      "On Steps: 1700\n",
      "Accuracy: \n",
      "0.5762\n",
      "\n",
      "\n",
      "On Steps: 1800\n",
      "Accuracy: \n",
      "0.6041\n",
      "\n",
      "\n",
      "On Steps: 1900\n",
      "Accuracy: \n",
      "0.62\n",
      "\n",
      "\n",
      "On Steps: 2000\n",
      "Accuracy: \n",
      "0.6132\n",
      "\n",
      "\n",
      "On Steps: 2100\n",
      "Accuracy: \n",
      "0.6413\n",
      "\n",
      "\n",
      "On Steps: 2200\n",
      "Accuracy: \n",
      "0.6319\n",
      "\n",
      "\n",
      "On Steps: 2300\n",
      "Accuracy: \n",
      "0.6225\n",
      "\n",
      "\n",
      "On Steps: 2400\n",
      "Accuracy: \n",
      "0.6469\n",
      "\n",
      "\n",
      "On Steps: 2500\n",
      "Accuracy: \n",
      "0.6624\n",
      "\n",
      "\n",
      "On Steps: 2600\n",
      "Accuracy: \n",
      "0.6556\n",
      "\n",
      "\n",
      "On Steps: 2700\n",
      "Accuracy: \n",
      "0.6653\n",
      "\n",
      "\n",
      "On Steps: 2800\n",
      "Accuracy: \n",
      "0.6512\n",
      "\n",
      "\n",
      "On Steps: 2900\n",
      "Accuracy: \n",
      "0.6711\n",
      "\n",
      "\n",
      "On Steps: 3000\n",
      "Accuracy: \n",
      "0.6637\n",
      "\n",
      "\n",
      "On Steps: 3100\n",
      "Accuracy: \n",
      "0.6708\n",
      "\n",
      "\n",
      "On Steps: 3200\n",
      "Accuracy: \n",
      "0.6781\n",
      "\n",
      "\n",
      "On Steps: 3300\n",
      "Accuracy: \n",
      "0.6891\n",
      "\n",
      "\n",
      "On Steps: 3400\n",
      "Accuracy: \n",
      "0.6739\n",
      "\n",
      "\n",
      "On Steps: 3500\n",
      "Accuracy: \n",
      "0.6574\n",
      "\n",
      "\n",
      "On Steps: 3600\n",
      "Accuracy: \n",
      "0.6888\n",
      "\n",
      "\n",
      "On Steps: 3700\n",
      "Accuracy: \n",
      "0.6707\n",
      "\n",
      "\n",
      "On Steps: 3800\n",
      "Accuracy: \n",
      "0.6761\n",
      "\n",
      "\n",
      "On Steps: 3900\n",
      "Accuracy: \n",
      "0.7036\n",
      "\n",
      "\n",
      "On Steps: 4000\n",
      "Accuracy: \n",
      "0.6592\n",
      "\n",
      "\n",
      "On Steps: 4100\n",
      "Accuracy: \n",
      "0.6712\n",
      "\n",
      "\n",
      "On Steps: 4200\n",
      "Accuracy: \n",
      "0.6845\n",
      "\n",
      "\n",
      "On Steps: 4300\n",
      "Accuracy: \n",
      "0.6878\n",
      "\n",
      "\n",
      "On Steps: 4400\n",
      "Accuracy: \n",
      "0.6916\n",
      "\n",
      "\n",
      "On Steps: 4500\n",
      "Accuracy: \n",
      "0.681\n",
      "\n",
      "\n",
      "On Steps: 4600\n",
      "Accuracy: \n",
      "0.6747\n",
      "\n",
      "\n",
      "On Steps: 4700\n",
      "Accuracy: \n",
      "0.7058\n",
      "\n",
      "\n",
      "On Steps: 4800\n",
      "Accuracy: \n",
      "0.6969\n",
      "\n",
      "\n",
      "On Steps: 4900\n",
      "Accuracy: \n",
      "0.7125\n",
      "\n",
      "\n"
     ]
    }
   ],
   "source": [
    "# Session\n",
    "with tf.Session() as sess:\n",
    "    sess.run(init)\n",
    "    for i in range(num_steps):\n",
    "        # x_batch,y_batch = hc.random_batch(batch_size)\n",
    "        x_batch,y_batch = hc.next_batch(batch_size)\n",
    "        sess.run(train_op,feed_dict={x:x_batch,y_true:y_batch,drop_p:dropout})\n",
    "        if i%display_step==0:\n",
    "            print('On Steps: {}'.format(i))\n",
    "            print('Accuracy: ')\n",
    "            print(sess.run(accuracy,feed_dict={x:x_test,y_true:y_test,drop_p:1.0}))\n",
    "            print('\\n')"
   ]
  },
  {
   "cell_type": "code",
   "execution_count": null,
   "metadata": {},
   "outputs": [],
   "source": []
  }
 ],
 "metadata": {
  "kernelspec": {
   "display_name": "Python 3",
   "language": "python",
   "name": "python3"
  },
  "language_info": {
   "codemirror_mode": {
    "name": "ipython",
    "version": 3
   },
   "file_extension": ".py",
   "mimetype": "text/x-python",
   "name": "python",
   "nbconvert_exporter": "python",
   "pygments_lexer": "ipython3",
   "version": "3.6.8"
  }
 },
 "nbformat": 4,
 "nbformat_minor": 2
}
